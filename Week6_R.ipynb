{
  "nbformat": 4,
  "nbformat_minor": 0,
  "metadata": {
    "colab": {
      "provenance": [],
      "authorship_tag": "ABX9TyOiYq3gEVIgMNjRmSCXo2mk",
      "include_colab_link": true
    },
    "kernelspec": {
      "name": "ir",
      "display_name": "R"
    },
    "language_info": {
      "name": "R"
    }
  },
  "cells": [
    {
      "cell_type": "markdown",
      "metadata": {
        "id": "view-in-github",
        "colab_type": "text"
      },
      "source": [
        "<a href=\"https://colab.research.google.com/github/rshaikh95/datasci_6_anova/blob/main/Week6_R.ipynb\" target=\"_parent\"><img src=\"https://colab.research.google.com/assets/colab-badge.svg\" alt=\"Open In Colab\"/></a>"
      ]
    },
    {
      "cell_type": "code",
      "execution_count": 1,
      "metadata": {
        "colab": {
          "base_uri": "https://localhost:8080/"
        },
        "id": "j-nWVSN_UoLR",
        "outputId": "0af52b59-62e0-4aca-f008-941bab507701"
      },
      "outputs": [
        {
          "output_type": "stream",
          "name": "stderr",
          "text": [
            "Installing package into ‘/usr/local/lib/R/site-library’\n",
            "(as ‘lib’ is unspecified)\n",
            "\n",
            "also installing the dependencies ‘rbibutils’, ‘Kendall’, ‘mvtnorm’, ‘Rdpack’\n",
            "\n",
            "\n"
          ]
        }
      ],
      "source": [
        "install.packages(\"lawstat\")\n",
        "library(lawstat)"
      ]
    },
    {
      "cell_type": "code",
      "source": [
        "df = read.csv('/content/diabetic_data.csv')\n",
        "\n",
        "df\n"
      ],
      "metadata": {
        "id": "KuLjfhd_VAS-"
      },
      "execution_count": null,
      "outputs": []
    },
    {
      "cell_type": "code",
      "source": [
        "df$race = as.character(df$race)\n",
        "df$A1Cresult = as.character(df$A1Cresult)\n",
        "df"
      ],
      "metadata": {
        "id": "hSqh1bStWXNr"
      },
      "execution_count": null,
      "outputs": []
    },
    {
      "cell_type": "code",
      "source": [
        "model = aov(race ~ time_in_hospital * A1Cresult, data=df)\n",
        "summary(model)"
      ],
      "metadata": {
        "id": "d0eefyMwWnAB"
      },
      "execution_count": null,
      "outputs": []
    },
    {
      "cell_type": "code",
      "source": [
        "means <- aggregate(thalach ~ cp, data=df, FUN=mean)\n",
        "print(means)"
      ],
      "metadata": {
        "id": "b65uIG3bXInP"
      },
      "execution_count": null,
      "outputs": []
    },
    {
      "cell_type": "code",
      "source": [
        "TukeyHSD(model)"
      ],
      "metadata": {
        "id": "rfss_IfjXJvP"
      },
      "execution_count": null,
      "outputs": []
    }
  ]
}